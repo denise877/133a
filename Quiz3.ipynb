{
 "cells": [
  {
   "cell_type": "code",
   "execution_count": 2,
   "metadata": {},
   "outputs": [],
   "source": [
    "import math"
   ]
  },
  {
   "cell_type": "markdown",
   "metadata": {},
   "source": [
    "### Mortgage mathematics\n",
    "#### Monthly Payment: \n",
    "<center>$ c = \\frac{r}{1-(1+r)^{-N}}{p _0} $</center>\n"
   ]
  },
  {
   "cell_type": "code",
   "execution_count": 3,
   "metadata": {},
   "outputs": [],
   "source": [
    "def monthly_payment(annual_rate,year,P_0):\n",
    "    c = (annual_rate/100/12)/(1-(1+annual_rate/100/12)**(-year*12))*P_0\n",
    "    print(\"The monthly payment is {:.2f} = ({}/12)/[(1-(1+{}/12)^({}*12)]*{}\".format(c,annual_rate/100,annual_rate/100,-year,P_0))\n",
    "    return c"
   ]
  },
  {
   "cell_type": "markdown",
   "metadata": {},
   "source": [
    "#### Example:\n",
    "Given that annual interest rate is 3% for 30 years, and $474378.76 is borrowed. The question asks for the monthly payment. \n",
    "<br>"
   ]
  },
  {
   "cell_type": "code",
   "execution_count": 4,
   "metadata": {},
   "outputs": [
    {
     "name": "stdout",
     "output_type": "stream",
     "text": [
      "The monthly payment is 2000.00 = (0.03/12)/[(1-(1+0.03/12)^(-30*12)]*474378.76\n"
     ]
    },
    {
     "data": {
      "text/plain": [
       "1999.9999873157753"
      ]
     },
     "execution_count": 4,
     "metadata": {},
     "output_type": "execute_result"
    }
   ],
   "source": [
    "monthly_payment(3,30,474378.76)"
   ]
  },
  {
   "cell_type": "code",
   "execution_count": 5,
   "metadata": {},
   "outputs": [],
   "source": [
    "def total_interest(annual_rate,year,P_0,first_n_month):\n",
    "    c = monthly_payment(annual_rate,year,P_0)\n",
    "    total_interest = 0\n",
    "    for i in range(first_n_month):\n",
    "        monthly_interest = P_0 * (annual_rate/100/12)\n",
    "        print(\"the {} month has monthly interest {:.2f} = {:.2f}*{}/12\".format(i+1,monthly_interest,P_0,annual_rate/100))\n",
    "        principal = c - monthly_interest\n",
    "        P_0 -= principal\n",
    "        total_interest += monthly_interest\n",
    "    return total_interest"
   ]
  },
  {
   "cell_type": "markdown",
   "metadata": {},
   "source": [
    "#### Example:\n",
    "Given that annual interest rate is 3% for 30 years, and $474378.76 is borrowed. The question asks for the first 2 month's interest. \n",
    "<br>"
   ]
  },
  {
   "cell_type": "code",
   "execution_count": 6,
   "metadata": {
    "scrolled": true
   },
   "outputs": [
    {
     "name": "stdout",
     "output_type": "stream",
     "text": [
      "The monthly payment is 2000.00 = (0.03/12)/[(1-(1+0.03/12)^(-30*12)]*474378.76\n",
      "the 1 month has monthly interest 1185.95 = 474378.76*0.03/12\n",
      "the 2 month has monthly interest 1183.91 = 473564.71*0.03/12\n"
     ]
    },
    {
     "data": {
      "text/plain": [
       "2369.858667281711"
      ]
     },
     "execution_count": 6,
     "metadata": {},
     "output_type": "execute_result"
    }
   ],
   "source": [
    "total_interest(3,30,474378.76,2)"
   ]
  },
  {
   "cell_type": "code",
   "execution_count": 7,
   "metadata": {},
   "outputs": [],
   "source": [
    "def total_principal(annual_rate,year,P_0,first_n_month):\n",
    "    c = monthly_payment(annual_rate,year,P_0)\n",
    "    total_principal = 0\n",
    "    for i in range(first_n_month):\n",
    "        monthly_interest = P_0 * (annual_rate/100/12)\n",
    "        principal = c - monthly_interest\n",
    "        print(\"the {} month has monthly principal {:.2f} = {:.2f}-{:.2f}*{}/12\".format(i+1,principal,c,P_0,annual_rate/100))\n",
    "        P_0 -= principal\n",
    "        total_principal += principal\n",
    "    return total_principal"
   ]
  },
  {
   "cell_type": "markdown",
   "metadata": {},
   "source": [
    "#### Example:\n",
    "Given that annual interest rate is 3% for 30 years, and $474378.76 is borrowed. The question asks for the first month's principal. \n",
    "<br>"
   ]
  },
  {
   "cell_type": "code",
   "execution_count": 8,
   "metadata": {},
   "outputs": [
    {
     "name": "stdout",
     "output_type": "stream",
     "text": [
      "The monthly payment is 2000.00 = (0.03/12)/[(1-(1+0.03/12)^(-30*12)]*474378.76\n",
      "the 1 month has monthly principal 814.05 = 2000.00-474378.76*0.03/12\n"
     ]
    },
    {
     "data": {
      "text/plain": [
       "814.0530873157752"
      ]
     },
     "execution_count": 8,
     "metadata": {},
     "output_type": "execute_result"
    }
   ],
   "source": [
    "total_principal(3,30,474378.76,1)"
   ]
  },
  {
   "cell_type": "markdown",
   "metadata": {},
   "source": [
    "### Stocks that pay dividends\n",
    "#### Fair value of the prepaid forward contract: \n",
    "The basic idea is that value = price - dividends. \n",
    "The most important thing is to determine whether we need to prepaid the forward price or pay it later. \n",
    "We convert the prices to the period that we make the payment. \n",
    "<br>\n",
    "<br>If we prepaid the forward price: \n",
    "<center>$ \\mathbf{F} = S _0e^{-\\delta\\mathbf{T}} $</center>\n",
    "<br>If we pay forward price at time T: \n",
    "<center>$ \\mathbf{F} = S _0e^{r\\mathbf{T}} $</center>\n",
    "<br>If $ \\delta $ and $\\mathbf{r}$ both appear in the question, then formula is\n",
    "<Br><center>$ \\mathbf{F} = S _0e^{(r-\\delta)\\mathbf{T}} $</center>\n",
    "<br>Remark: $ \\delta $ or $\\mathbf{r}$ is the contiuously paid divident rate in percentage, $\\mathbf{T}$ is the number of time period, it could be $ \\frac{1}{2} $, 1 , 2 or else. \n",
    "<br>\n"
   ]
  },
  {
   "cell_type": "code",
   "execution_count": 9,
   "metadata": {},
   "outputs": [],
   "source": [
    "def forward_price(S_0,r,T):\n",
    "    if r <= 1:\n",
    "        print(\"r should be positive and in percentage\") \n",
    "    else:\n",
    "        F = S_0 * math.exp(r/100 * T)\n",
    "        print(\"The forward price is F ={}*e^({:.4f}*{})={}\".format(S_0,r/100,T,F))\n",
    "        return F"
   ]
  },
  {
   "cell_type": "code",
   "execution_count": 10,
   "metadata": {},
   "outputs": [],
   "source": [
    "def prepaid_forward_price(S_0,delta,T):\n",
    "    if delta <= 1:\n",
    "        print(\"delta should be positive and in percentage\") \n",
    "    else:\n",
    "        F = S_0 * math.exp(-delta/100 * T)\n",
    "        print(\"The prepaid forward price is F ={}*e^({:.4f}*{})={}\".format(S_0,-delta/100,T,F))\n",
    "        return F"
   ]
  },
  {
   "cell_type": "code",
   "execution_count": 11,
   "metadata": {},
   "outputs": [],
   "source": [
    "def combined_forward_price(S_0,r,delta,T):\n",
    "    if r <= 1 or delta <= 1 :\n",
    "        print(\"it should be positive percentage\") \n",
    "    else:\n",
    "        F = S_0 * math.exp((r-delta)/100 * T)\n",
    "        print(\"The combined forward price is F ={}*e^({:.4f}*{})={}\".format(S_0,(r-delta)/100,T,F))\n",
    "        return F"
   ]
  },
  {
   "cell_type": "markdown",
   "metadata": {},
   "source": [
    "#### Example:\n",
    "Given that dividend rate is 1.4% annually, what is the prepaid forward price for 6 month index priced at 950.46 now?\n",
    "<br>"
   ]
  },
  {
   "cell_type": "code",
   "execution_count": 12,
   "metadata": {},
   "outputs": [
    {
     "name": "stdout",
     "output_type": "stream",
     "text": [
      "The prepaid forward price is F =950.46*e^(-0.0140*0.5)=943.8300120303227\n"
     ]
    },
    {
     "data": {
      "text/plain": [
       "943.8300120303227"
      ]
     },
     "execution_count": 12,
     "metadata": {},
     "output_type": "execute_result"
    }
   ],
   "source": [
    "prepaid_forward_price(950.46,1.4,1/2)"
   ]
  },
  {
   "cell_type": "markdown",
   "metadata": {},
   "source": [
    "#### Example:\n",
    "Given that dividends will be 0.5 paid after 3 months and 6 months. Today the share price is 36.00, and interest rate is 1.5% quarterly. What is the prepaid forward price?"
   ]
  },
  {
   "cell_type": "code",
   "execution_count": 13,
   "metadata": {},
   "outputs": [
    {
     "name": "stdout",
     "output_type": "stream",
     "text": [
      "The prepaid forward price is F =0.5*e^(-0.0150*1)=0.4925559698015313\n",
      "The prepaid forward price is F =0.5*e^(-0.0150*2)=0.4852227667742541\n"
     ]
    },
    {
     "data": {
      "text/plain": [
       "35.022221263424214"
      ]
     },
     "execution_count": 13,
     "metadata": {},
     "output_type": "execute_result"
    }
   ],
   "source": [
    "36-prepaid_forward_price(0.5,1.5,1)-prepaid_forward_price(0.5,1.5,2)"
   ]
  },
  {
   "cell_type": "markdown",
   "metadata": {},
   "source": [
    "#### Example:\n",
    "Given that dividends will be 1.1 and 1.15 paid after 3 months and 6 months. Today the share price is 45.6, and interest rate is 2.1% quarterly. What is the forward price?"
   ]
  },
  {
   "cell_type": "code",
   "execution_count": 14,
   "metadata": {},
   "outputs": [
    {
     "name": "stdout",
     "output_type": "stream",
     "text": [
      "The forward price is F =45.6*e^(0.0210*2)=47.5559882310348\n",
      "The forward price is F =1.1*e^(0.0210*1)=1.1233442568012815\n"
     ]
    },
    {
     "data": {
      "text/plain": [
       "45.28264397423352"
      ]
     },
     "execution_count": 14,
     "metadata": {},
     "output_type": "execute_result"
    }
   ],
   "source": [
    "forward_price(45.6,2.1,2)-forward_price(1.1,2.1,1)-1.15"
   ]
  },
  {
   "cell_type": "code",
   "execution_count": 16,
   "metadata": {},
   "outputs": [
    {
     "name": "stdout",
     "output_type": "stream",
     "text": [
      "The prepaid forward price is F =1*e^(-0.0600*0.25)=0.9851119396030626\n",
      "The prepaid forward price is F =1*e^(-0.0600*0.5)=0.9704455335485082\n",
      "The prepaid forward price is F =1*e^(-0.0600*0.75)=0.9559974818331\n",
      "The prepaid forward price is F =1*e^(-0.0600*1)=0.9417645335842487\n"
     ]
    },
    {
     "data": {
      "text/plain": [
       "46.14668051143108"
      ]
     },
     "execution_count": 16,
     "metadata": {},
     "output_type": "execute_result"
    }
   ],
   "source": [
    "50-prepaid_forward_price(1,6,1/4)-prepaid_forward_price(1,6,2/4)-prepaid_forward_price(1,6,3/4)-prepaid_forward_price(1,6,1)"
   ]
  },
  {
   "cell_type": "code",
   "execution_count": 17,
   "metadata": {},
   "outputs": [
    {
     "name": "stdout",
     "output_type": "stream",
     "text": [
      "The forward price is F =50*e^(0.0600*1)=53.09182732726798\n",
      "The forward price is F =1*e^(0.0600*0.75)=1.046027859908717\n",
      "The forward price is F =1*e^(0.0600*0.5)=1.030454533953517\n",
      "The forward price is F =1*e^(0.0600*0.25)=1.015113064615719\n"
     ]
    },
    {
     "data": {
      "text/plain": [
       "49.000231868790024"
      ]
     },
     "execution_count": 17,
     "metadata": {},
     "output_type": "execute_result"
    }
   ],
   "source": [
    "forward_price(50,6,1)-forward_price(1,6,3/4)-forward_price(1,6,2/4)-forward_price(1,6,1/4)-1"
   ]
  },
  {
   "cell_type": "code",
   "execution_count": null,
   "metadata": {},
   "outputs": [],
   "source": []
  }
 ],
 "metadata": {
  "kernelspec": {
   "display_name": "Python 3",
   "language": "python",
   "name": "python3"
  },
  "language_info": {
   "codemirror_mode": {
    "name": "ipython",
    "version": 3
   },
   "file_extension": ".py",
   "mimetype": "text/x-python",
   "name": "python",
   "nbconvert_exporter": "python",
   "pygments_lexer": "ipython3",
   "version": "3.7.3"
  }
 },
 "nbformat": 4,
 "nbformat_minor": 2
}
